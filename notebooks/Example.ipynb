{
 "cells": [
  {
   "cell_type": "markdown",
   "metadata": {},
   "source": [
    "# 1 Load Packages"
   ]
  },
  {
   "cell_type": "code",
   "execution_count": 1,
   "metadata": {},
   "outputs": [],
   "source": [
    "import xarray as xr\n",
    "from pathlib import Path\n",
    "import tensorflow as tf\n",
    "import pickle\n",
    "import logging\n",
    "\n",
    "logging.basicConfig(level=logging.DEBUG)"
   ]
  },
  {
   "cell_type": "code",
   "execution_count": 2,
   "metadata": {},
   "outputs": [],
   "source": [
    "import xarray_tfrecords"
   ]
  },
  {
   "cell_type": "markdown",
   "metadata": {},
   "source": [
    "# 2 Load Example File"
   ]
  },
  {
   "cell_type": "code",
   "execution_count": 3,
   "metadata": {},
   "outputs": [],
   "source": [
    "data = xr.load_dataset(\"/media/bjoern/69541ddc-6387-4b54-867e-d386a7abc282/Data/CMIP6/data/CMIP/MPI-M/MPI-ESM1-2-LR/historical/r10i1p1f1/Omon/tos/gn/v20190710/tos_Omon_MPI-ESM1-2-LR_historical_r10i1p1f1_gn_185001-186912.nc\", use_cftime=True)"
   ]
  },
  {
   "cell_type": "code",
   "execution_count": 4,
   "metadata": {},
   "outputs": [],
   "source": [
    "data_sum = data.sum(dim=(\"i\",\"j\"))"
   ]
  },
  {
   "cell_type": "code",
   "execution_count": 5,
   "metadata": {},
   "outputs": [],
   "source": [
    "data_sum[\"tos\"].rename(\"sum\")\n",
    "data_com = xr.merge([data, data_sum[\"tos\"].rename(\"sum\")])"
   ]
  },
  {
   "cell_type": "code",
   "execution_count": 6,
   "metadata": {},
   "outputs": [],
   "source": [
    "data_path = os.path.join(\"..\",\"data\",\"data.tfrecord\")"
   ]
  },
  {
   "cell_type": "code",
   "execution_count": 7,
   "metadata": {},
   "outputs": [
    {
     "data": {
      "text/plain": [
       "<module 'xarray_tfrecords' from '/home/bjoern/anaconda3/envs/xr-tf-inst/lib/python3.9/site-packages/xarray_tfrecords/__init__.py'>"
      ]
     },
     "execution_count": 7,
     "metadata": {},
     "output_type": "execute_result"
    }
   ],
   "source": [
    "import importlib\n",
    "importlib.reload(xarray_tfrecords)"
   ]
  },
  {
   "cell_type": "code",
   "execution_count": 8,
   "metadata": {},
   "outputs": [
    {
     "name": "stderr",
     "output_type": "stream",
     "text": [
      "INFO:root:0\n",
      "INFO:root:1\n",
      "INFO:root:2\n",
      "INFO:root:3\n",
      "INFO:root:4\n",
      "INFO:root:5\n",
      "INFO:root:6\n",
      "INFO:root:7\n",
      "INFO:root:8\n",
      "INFO:root:9\n",
      "INFO:root:10\n",
      "INFO:root:11\n",
      "INFO:root:12\n",
      "INFO:root:13\n",
      "INFO:root:14\n",
      "INFO:root:15\n",
      "INFO:root:16\n",
      "INFO:root:17\n",
      "INFO:root:18\n",
      "INFO:root:19\n",
      "INFO:root:20\n",
      "INFO:root:21\n",
      "INFO:root:22\n",
      "INFO:root:23\n",
      "INFO:root:24\n",
      "INFO:root:25\n",
      "INFO:root:26\n",
      "INFO:root:27\n",
      "INFO:root:28\n",
      "INFO:root:29\n",
      "INFO:root:30\n",
      "INFO:root:31\n",
      "INFO:root:32\n",
      "INFO:root:33\n",
      "INFO:root:34\n",
      "INFO:root:35\n",
      "INFO:root:36\n",
      "INFO:root:37\n",
      "INFO:root:38\n",
      "INFO:root:39\n",
      "INFO:root:40\n",
      "INFO:root:41\n",
      "INFO:root:42\n",
      "INFO:root:43\n",
      "INFO:root:44\n",
      "INFO:root:45\n",
      "INFO:root:46\n",
      "INFO:root:47\n",
      "INFO:root:48\n",
      "INFO:root:49\n",
      "INFO:root:50\n",
      "INFO:root:51\n",
      "INFO:root:52\n",
      "INFO:root:53\n",
      "INFO:root:54\n",
      "INFO:root:55\n",
      "INFO:root:56\n",
      "INFO:root:57\n",
      "INFO:root:58\n",
      "INFO:root:59\n",
      "INFO:root:60\n",
      "INFO:root:61\n",
      "INFO:root:62\n",
      "INFO:root:63\n",
      "INFO:root:64\n",
      "INFO:root:65\n",
      "INFO:root:66\n",
      "INFO:root:67\n",
      "INFO:root:68\n",
      "INFO:root:69\n",
      "INFO:root:70\n",
      "INFO:root:71\n",
      "INFO:root:72\n",
      "INFO:root:73\n",
      "INFO:root:74\n",
      "INFO:root:75\n",
      "INFO:root:76\n",
      "INFO:root:77\n",
      "INFO:root:78\n",
      "INFO:root:79\n",
      "INFO:root:80\n",
      "INFO:root:81\n",
      "INFO:root:82\n",
      "INFO:root:83\n",
      "INFO:root:84\n",
      "INFO:root:85\n",
      "INFO:root:86\n",
      "INFO:root:87\n",
      "INFO:root:88\n",
      "INFO:root:89\n",
      "INFO:root:90\n",
      "INFO:root:91\n",
      "INFO:root:92\n",
      "INFO:root:93\n",
      "INFO:root:94\n",
      "INFO:root:95\n",
      "INFO:root:96\n",
      "INFO:root:97\n",
      "INFO:root:98\n",
      "INFO:root:99\n",
      "INFO:root:100\n",
      "INFO:root:101\n",
      "INFO:root:102\n",
      "INFO:root:103\n",
      "INFO:root:104\n",
      "INFO:root:105\n",
      "INFO:root:106\n",
      "INFO:root:107\n",
      "INFO:root:108\n",
      "INFO:root:109\n",
      "INFO:root:110\n",
      "INFO:root:111\n",
      "INFO:root:112\n",
      "INFO:root:113\n",
      "INFO:root:114\n",
      "INFO:root:115\n",
      "INFO:root:116\n",
      "INFO:root:117\n",
      "INFO:root:118\n",
      "INFO:root:119\n",
      "INFO:root:120\n",
      "INFO:root:121\n",
      "INFO:root:122\n",
      "INFO:root:123\n",
      "INFO:root:124\n",
      "INFO:root:125\n",
      "INFO:root:126\n",
      "INFO:root:127\n",
      "INFO:root:128\n",
      "INFO:root:129\n",
      "INFO:root:130\n",
      "INFO:root:131\n",
      "INFO:root:132\n",
      "INFO:root:133\n",
      "INFO:root:134\n",
      "INFO:root:135\n",
      "INFO:root:136\n",
      "INFO:root:137\n",
      "INFO:root:138\n",
      "INFO:root:139\n",
      "INFO:root:140\n",
      "INFO:root:141\n",
      "INFO:root:142\n",
      "INFO:root:143\n",
      "INFO:root:144\n",
      "INFO:root:145\n",
      "INFO:root:146\n",
      "INFO:root:147\n",
      "INFO:root:148\n",
      "INFO:root:149\n",
      "INFO:root:150\n",
      "INFO:root:151\n",
      "INFO:root:152\n",
      "INFO:root:153\n",
      "INFO:root:154\n",
      "INFO:root:155\n",
      "INFO:root:156\n",
      "INFO:root:157\n",
      "INFO:root:158\n",
      "INFO:root:159\n",
      "INFO:root:160\n",
      "INFO:root:161\n",
      "INFO:root:162\n",
      "INFO:root:163\n",
      "INFO:root:164\n",
      "INFO:root:165\n",
      "INFO:root:166\n",
      "INFO:root:167\n",
      "INFO:root:168\n",
      "INFO:root:169\n",
      "INFO:root:170\n",
      "INFO:root:171\n",
      "INFO:root:172\n",
      "INFO:root:173\n",
      "INFO:root:174\n",
      "INFO:root:175\n",
      "INFO:root:176\n",
      "INFO:root:177\n",
      "INFO:root:178\n",
      "INFO:root:179\n",
      "INFO:root:180\n",
      "INFO:root:181\n",
      "INFO:root:182\n",
      "INFO:root:183\n",
      "INFO:root:184\n",
      "INFO:root:185\n",
      "INFO:root:186\n",
      "INFO:root:187\n",
      "INFO:root:188\n",
      "INFO:root:189\n",
      "INFO:root:190\n",
      "INFO:root:191\n",
      "INFO:root:192\n",
      "INFO:root:193\n",
      "INFO:root:194\n",
      "INFO:root:195\n",
      "INFO:root:196\n",
      "INFO:root:197\n",
      "INFO:root:198\n",
      "INFO:root:199\n",
      "INFO:root:200\n",
      "INFO:root:201\n",
      "INFO:root:202\n",
      "INFO:root:203\n",
      "INFO:root:204\n",
      "INFO:root:205\n",
      "INFO:root:206\n",
      "INFO:root:207\n",
      "INFO:root:208\n",
      "INFO:root:209\n",
      "INFO:root:210\n",
      "INFO:root:211\n",
      "INFO:root:212\n",
      "INFO:root:213\n",
      "INFO:root:214\n",
      "INFO:root:215\n",
      "INFO:root:216\n",
      "INFO:root:217\n",
      "INFO:root:218\n",
      "INFO:root:219\n",
      "INFO:root:220\n",
      "INFO:root:221\n",
      "INFO:root:222\n",
      "INFO:root:223\n",
      "INFO:root:224\n",
      "INFO:root:225\n",
      "INFO:root:226\n",
      "INFO:root:227\n",
      "INFO:root:228\n",
      "INFO:root:229\n",
      "INFO:root:230\n",
      "INFO:root:231\n",
      "INFO:root:232\n",
      "INFO:root:233\n",
      "INFO:root:234\n",
      "INFO:root:235\n",
      "INFO:root:236\n",
      "INFO:root:237\n",
      "INFO:root:238\n",
      "INFO:root:239\n"
     ]
    }
   ],
   "source": [
    "xarray_tfrecords.xarray_to_tfrecord(data_com, sample_dim=\"time\",feature_variables=[\"tos\",\"sum\"], data_path=data_path)"
   ]
  },
  {
   "cell_type": "code",
   "execution_count": 9,
   "metadata": {},
   "outputs": [
    {
     "name": "stderr",
     "output_type": "stream",
     "text": [
      "2022-03-04 19:20:21.610377: I tensorflow/compiler/jit/xla_cpu_device.cc:41] Not creating XLA devices, tf_xla_enable_xla_devices not set\n",
      "2022-03-04 19:20:21.610576: I tensorflow/core/platform/cpu_feature_guard.cc:142] This TensorFlow binary is optimized with oneAPI Deep Neural Network Library (oneDNN) to use the following CPU instructions in performance-critical operations:  SSE4.1 SSE4.2 AVX AVX2 FMA\n",
      "To enable them in other operations, rebuild TensorFlow with the appropriate compiler flags.\n",
      "2022-03-04 19:20:21.611631: I tensorflow/core/common_runtime/process_util.cc:146] Creating new thread pool with default inter op setting: 2. Tune using inter_op_parallelism_threads for best performance.\n",
      "INFO:root:tos Variable loading started\n",
      "2022-03-04 19:20:21.844576: I tensorflow/compiler/mlir/mlir_graph_optimization_pass.cc:116] None of the MLIR optimization passes are enabled (registered 2)\n",
      "2022-03-04 19:20:21.862336: I tensorflow/core/platform/profile_utils/cpu_utils.cc:112] CPU Frequency: 2299965000 Hz\n",
      "INFO:root:sum Variable loading started\n"
     ]
    }
   ],
   "source": [
    "data_loaded = xarray_tfrecords.tfrecord_to_xarray(\"../data/data.tfrecord\")"
   ]
  },
  {
   "cell_type": "markdown",
   "metadata": {},
   "source": [
    "# 3 Load TFRecord File with tensorflow and train model"
   ]
  },
  {
   "cell_type": "code",
   "execution_count": 10,
   "metadata": {},
   "outputs": [],
   "source": [
    "def decode_feature(feature):\n",
    "    # Reshape and drop nan values\n",
    "    feature = tf.reshape(feature,[-1,1])\n",
    "    feature_mask = ~tf.math.is_nan(feature)\n",
    "    feature = tf.boolean_mask(feature,feature_mask)\n",
    "    return feature\n"
   ]
  },
  {
   "cell_type": "code",
   "execution_count": 11,
   "metadata": {},
   "outputs": [],
   "source": [
    "def read_tfrecord(example, feature_description):\n",
    "    example = tf.io.parse_single_example(example, feature_description)\n",
    "    #return example\n",
    "    feature = decode_feature(example[\"tos\"])\n",
    "    target = example[\"sum\"]\n",
    "\n",
    "    return feature, target\n"
   ]
  },
  {
   "cell_type": "code",
   "execution_count": 12,
   "metadata": {},
   "outputs": [],
   "source": [
    "def xr_load_tfdataset(filename, sample_dim):\n",
    "    dataset = tf.data.TFRecordDataset(filename)\n",
    "\n",
    "    metadata = xarray_tfrecords.load_metadata(\"../data/data.tfrecord\")\n",
    "    feature_description = xarray_tfrecords.gen_feature_description(metadata, sample_dim=sample_dim)\n",
    "    \n",
    "    dataset_parsed = dataset.map(lambda example : read_tfrecord(example, feature_description))\n",
    "    return dataset_parsed"
   ]
  },
  {
   "cell_type": "code",
   "execution_count": 13,
   "metadata": {},
   "outputs": [
    {
     "name": "stdout",
     "output_type": "stream",
     "text": [
      "WARNING:tensorflow:AutoGraph could not transform <function read_tfrecord at 0x7fb7d79e9700> and will run it as-is.\n",
      "Please report this to the TensorFlow team. When filing the bug, set the verbosity to 10 (on Linux, `export AUTOGRAPH_VERBOSITY=10`) and attach the full output.\n",
      "Cause: module 'gast' has no attribute 'Index'\n",
      "To silence this warning, decorate the function with @tf.autograph.experimental.do_not_convert\n"
     ]
    },
    {
     "name": "stderr",
     "output_type": "stream",
     "text": [
      "WARNING:tensorflow:AutoGraph could not transform <function read_tfrecord at 0x7fb7d79e9700> and will run it as-is.\n",
      "Please report this to the TensorFlow team. When filing the bug, set the verbosity to 10 (on Linux, `export AUTOGRAPH_VERBOSITY=10`) and attach the full output.\n",
      "Cause: module 'gast' has no attribute 'Index'\n",
      "To silence this warning, decorate the function with @tf.autograph.experimental.do_not_convert\n"
     ]
    },
    {
     "name": "stdout",
     "output_type": "stream",
     "text": [
      "WARNING: AutoGraph could not transform <function read_tfrecord at 0x7fb7d79e9700> and will run it as-is.\n",
      "Please report this to the TensorFlow team. When filing the bug, set the verbosity to 10 (on Linux, `export AUTOGRAPH_VERBOSITY=10`) and attach the full output.\n",
      "Cause: module 'gast' has no attribute 'Index'\n",
      "To silence this warning, decorate the function with @tf.autograph.experimental.do_not_convert\n"
     ]
    }
   ],
   "source": [
    "dataset_parsed = xr_load_tfdataset(\"../data/data.tfrecord\", sample_dim=\"time\")"
   ]
  },
  {
   "cell_type": "code",
   "execution_count": 14,
   "metadata": {},
   "outputs": [],
   "source": [
    "dataset_parsed = dataset_parsed.shuffle(10)\n",
    "dataset_parsed = dataset_parsed.batch(10)"
   ]
  },
  {
   "cell_type": "code",
   "execution_count": 21,
   "metadata": {},
   "outputs": [],
   "source": [
    "n_feature = iter(dataset_parsed).next()[0].shape[1]"
   ]
  },
  {
   "cell_type": "code",
   "execution_count": 24,
   "metadata": {},
   "outputs": [],
   "source": [
    "input = tf.keras.layers.Input(shape=(n_feature,))\n",
    "output = tf.keras.layers.Dense(1, activation=\"relu\")(input)"
   ]
  },
  {
   "cell_type": "code",
   "execution_count": 25,
   "metadata": {},
   "outputs": [],
   "source": [
    "model = tf.keras.Model(inputs=input, outputs=output)"
   ]
  },
  {
   "cell_type": "code",
   "execution_count": 26,
   "metadata": {},
   "outputs": [],
   "source": [
    "model.compile(optimizer = tf.keras.optimizers.Adam(learning_rate = 1e-5),loss=\"mean_squared_error\")"
   ]
  },
  {
   "cell_type": "code",
   "execution_count": 27,
   "metadata": {},
   "outputs": [
    {
     "name": "stdout",
     "output_type": "stream",
     "text": [
      "Model: \"model\"\n",
      "_________________________________________________________________\n",
      "Layer (type)                 Output Shape              Param #   \n",
      "=================================================================\n",
      "input_2 (InputLayer)         [(None, 36791)]           0         \n",
      "_________________________________________________________________\n",
      "dense_3 (Dense)              (None, 1)                 36792     \n",
      "=================================================================\n",
      "Total params: 36,792\n",
      "Trainable params: 36,792\n",
      "Non-trainable params: 0\n",
      "_________________________________________________________________\n"
     ]
    }
   ],
   "source": [
    "model.summary()"
   ]
  },
  {
   "cell_type": "code",
   "execution_count": 28,
   "metadata": {},
   "outputs": [
    {
     "name": "stdout",
     "output_type": "stream",
     "text": [
      "Epoch 1/100\n",
      "24/24 [==============================] - 1s 17ms/step - loss: 120733844111.3600\n",
      "Epoch 2/100\n",
      "24/24 [==============================] - 0s 16ms/step - loss: 120622255308.8000\n",
      "Epoch 3/100\n",
      "24/24 [==============================] - 0s 14ms/step - loss: 120267768791.0400\n",
      "Epoch 4/100\n",
      "24/24 [==============================] - 1s 17ms/step - loss: 120213312634.8800\n",
      "Epoch 5/100\n",
      "24/24 [==============================] - 0s 14ms/step - loss: 120382304092.1600\n",
      "Epoch 6/100\n",
      "24/24 [==============================] - 0s 11ms/step - loss: 120528084664.3200\n",
      "Epoch 7/100\n",
      "24/24 [==============================] - 0s 12ms/step - loss: 120272930734.0800\n",
      "Epoch 8/100\n",
      "24/24 [==============================] - 0s 13ms/step - loss: 120341143879.6800\n",
      "Epoch 9/100\n",
      "24/24 [==============================] - 0s 12ms/step - loss: 120108948848.6400\n",
      "Epoch 10/100\n",
      "24/24 [==============================] - 0s 13ms/step - loss: 119989378416.6400\n",
      "Epoch 11/100\n",
      "24/24 [==============================] - 0s 13ms/step - loss: 120150562242.5600\n",
      "Epoch 12/100\n",
      "24/24 [==============================] - 1s 21ms/step - loss: 119952594370.5600\n",
      "Epoch 13/100\n",
      "24/24 [==============================] - 0s 14ms/step - loss: 119898848296.9600\n",
      "Epoch 14/100\n",
      "24/24 [==============================] - 1s 19ms/step - loss: 119951020523.5200\n",
      "Epoch 15/100\n",
      "24/24 [==============================] - 0s 15ms/step - loss: 119746731048.9600\n",
      "Epoch 16/100\n",
      "24/24 [==============================] - 0s 14ms/step - loss: 119754037329.9200\n",
      "Epoch 17/100\n",
      "24/24 [==============================] - 0s 13ms/step - loss: 119574457876.4800\n",
      "Epoch 18/100\n",
      "24/24 [==============================] - 0s 15ms/step - loss: 119632200335.3600\n",
      "Epoch 19/100\n",
      "24/24 [==============================] - 0s 11ms/step - loss: 119358886379.5200\n",
      "Epoch 20/100\n",
      "24/24 [==============================] - 0s 10ms/step - loss: 119302284902.4000\n",
      "Epoch 21/100\n",
      "24/24 [==============================] - 0s 10ms/step - loss: 119252568965.1200\n",
      "Epoch 22/100\n",
      "24/24 [==============================] - 0s 17ms/step - loss: 119585890304.0000\n",
      "Epoch 23/100\n",
      "24/24 [==============================] - 0s 13ms/step - loss: 119381332787.2000\n",
      "Epoch 24/100\n",
      "24/24 [==============================] - 0s 10ms/step - loss: 119085562920.9600\n",
      "Epoch 25/100\n",
      "24/24 [==============================] - 0s 13ms/step - loss: 119224444518.4000\n",
      "Epoch 26/100\n",
      "24/24 [==============================] - 0s 13ms/step - loss: 119068903014.4000\n",
      "Epoch 27/100\n",
      "24/24 [==============================] - 0s 12ms/step - loss: 119137175142.4000\n",
      "Epoch 28/100\n",
      "24/24 [==============================] - 0s 18ms/step - loss: 118965255536.6400\n",
      "Epoch 29/100\n",
      "24/24 [==============================] - 0s 14ms/step - loss: 119033149849.6000\n",
      "Epoch 30/100\n",
      "24/24 [==============================] - 1s 18ms/step - loss: 118891945984.0000\n",
      "Epoch 31/100\n",
      "24/24 [==============================] - 0s 15ms/step - loss: 118735058370.5600\n",
      "Epoch 32/100\n",
      "24/24 [==============================] - 0s 14ms/step - loss: 118517040087.0400\n",
      "Epoch 33/100\n",
      "24/24 [==============================] - 0s 14ms/step - loss: 118572395724.8000\n",
      "Epoch 34/100\n",
      "24/24 [==============================] - 0s 13ms/step - loss: 118552157552.6400\n",
      "Epoch 35/100\n",
      "24/24 [==============================] - 0s 15ms/step - loss: 118424032706.5600\n",
      "Epoch 36/100\n",
      "24/24 [==============================] - 0s 16ms/step - loss: 118414432337.9200\n",
      "Epoch 37/100\n",
      "24/24 [==============================] - 0s 16ms/step - loss: 118245116805.1200\n",
      "Epoch 38/100\n",
      "24/24 [==============================] - 0s 11ms/step - loss: 118054247464.9600\n",
      "Epoch 39/100\n",
      "24/24 [==============================] - 0s 14ms/step - loss: 118371855237.1200\n",
      "Epoch 40/100\n",
      "24/24 [==============================] - 0s 14ms/step - loss: 118038248161.2800\n",
      "Epoch 41/100\n",
      "24/24 [==============================] - 0s 12ms/step - loss: 118173624893.4400\n",
      "Epoch 42/100\n",
      "24/24 [==============================] - 0s 17ms/step - loss: 118110164090.8800\n",
      "Epoch 43/100\n",
      "24/24 [==============================] - 0s 14ms/step - loss: 117756573450.2400\n",
      "Epoch 44/100\n",
      "24/24 [==============================] - 0s 12ms/step - loss: 117954762178.5600\n",
      "Epoch 45/100\n",
      "24/24 [==============================] - 0s 12ms/step - loss: 118087082311.6800\n",
      "Epoch 46/100\n",
      "24/24 [==============================] - 0s 19ms/step - loss: 118021036441.6000\n",
      "Epoch 47/100\n",
      "24/24 [==============================] - 0s 15ms/step - loss: 117853421568.0000\n",
      "Epoch 48/100\n",
      "24/24 [==============================] - 0s 13ms/step - loss: 117897447997.4400\n",
      "Epoch 49/100\n",
      "13/24 [===============>..............] - ETA: 0s - loss: 118257725124.9231"
     ]
    }
   ],
   "source": [
    "history = model.fit(dataset_parsed, epochs=100)"
   ]
  },
  {
   "cell_type": "code",
   "execution_count": null,
   "metadata": {},
   "outputs": [],
   "source": []
  }
 ],
 "metadata": {
  "interpreter": {
   "hash": "fc882e3d42f91bce17338ae6adc2582fb0622c54b565d2d79ebfddabf97f2a6c"
  },
  "kernelspec": {
   "display_name": "Python 3.9.5 ('xarray-tfrecord')",
   "language": "python",
   "name": "python3"
  },
  "language_info": {
   "codemirror_mode": {
    "name": "ipython",
    "version": 3
   },
   "file_extension": ".py",
   "mimetype": "text/x-python",
   "name": "python",
   "nbconvert_exporter": "python",
   "pygments_lexer": "ipython3",
   "version": "3.9.7"
  },
  "orig_nbformat": 4
 },
 "nbformat": 4,
 "nbformat_minor": 2
}
